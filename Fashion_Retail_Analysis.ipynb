{
 "cells": [
  {
   "cell_type": "markdown",
   "id": "b743f5b8",
   "metadata": {},
   "source": [
    "# 👗 Fashion Retail Sales 数据分析项目\n",
    "\n",
    "本项目基于 `Fashion_Retail_Sales.csv`，按六大数据分析步骤进行：\n",
    "1. 数据清洗\n",
    "2. 数据预处理\n",
    "3. 探索性数据分析\n",
    "4. 业务关联分析\n",
    "5. 时间模式挖掘\n",
    "6. 建模与验证"
   ]
  },
  {
   "cell_type": "code",
   "execution_count": null,
   "id": "95b03263",
   "metadata": {},
   "outputs": [],
   "source": [
    "import pandas as pd\n",
    "import matplotlib.pyplot as plt\n",
    "import seaborn as sns\n",
    "from datetime import datetime\n",
    "\n",
    "# 显示设置\n",
    "sns.set(style='whitegrid')\n",
    "plt.rcParams['figure.figsize'] = (10, 4)\n",
    "\n",
    "# 读取数据\n",
    "df = pd.read_csv('Fashion_Retail_Sales.csv')\n",
    "df.head()"
   ]
  },
  {
   "cell_type": "markdown",
   "id": "9701b4f8",
   "metadata": {},
   "source": [
    "## Step 1️⃣ 数据清洗"
   ]
  },
  {
   "cell_type": "code",
   "execution_count": null,
   "id": "6cd1e34e",
   "metadata": {},
   "outputs": [],
   "source": [
    "# 重命名列，统一风格\n",
    "cols = {\n",
    "    'Customer Reference ID': 'customer_id',\n",
    "    'Item Purchased': 'item_purchased',\n",
    "    'Purchase Amount (USD)': 'purchase_amount_(usd)',\n",
    "    'Date Purchase': 'date_purchase',\n",
    "    'Review Rating': 'review_rating',\n",
    "    'Payment Method': 'payment_method'\n",
    "}\n",
    "df.rename(columns=cols, inplace=True)\n",
    "\n",
    "# 转换数据类型\n",
    "df['date_purchase'] = pd.to_datetime(df['date_purchase'], format='%d-%m-%Y')\n",
    "df['review_rating'] = pd.to_numeric(df['review_rating'], errors='coerce')\n",
    "\n",
    "# 处理异常值\n",
    "df = df[(df['purchase_amount_(usd)'] > 0) & (df['purchase_amount_(usd)'] < 10000)]\n",
    "df.dropna(inplace=True)\n",
    "df.reset_index(drop=True, inplace=True)\n",
    "df.head()"
   ]
  },
  {
   "cell_type": "markdown",
   "id": "ccb2b296",
   "metadata": {},
   "source": [
    "## Step 2️⃣ 数据预处理"
   ]
  },
  {
   "cell_type": "code",
   "execution_count": null,
   "id": "231cc3c6",
   "metadata": {},
   "outputs": [],
   "source": [
    "# 拆解时间字段\n",
    "df['purchase_year'] = df['date_purchase'].dt.year\n",
    "df['purchase_month'] = df['date_purchase'].dt.month\n",
    "df['purchase_weekday'] = df['date_purchase'].dt.weekday  # 0 = Monday"
   ]
  },
  {
   "cell_type": "markdown",
   "id": "215b67b3",
   "metadata": {},
   "source": [
    "## Step 3️⃣ 探索性数据分析"
   ]
  },
  {
   "cell_type": "code",
   "execution_count": null,
   "id": "17ba103d",
   "metadata": {},
   "outputs": [],
   "source": [
    "# 消费金额分布\n",
    "sns.histplot(df['purchase_amount_(usd)'], bins=30, kde=True)\n",
    "plt.title('消费金额分布')\n",
    "plt.show()\n",
    "\n",
    "# 商品分布\n",
    "df['item_purchased'].value_counts().head(10).plot(kind='bar')\n",
    "plt.title('Top 10 商品')\n",
    "plt.ylabel('销量')\n",
    "plt.xticks(rotation=45)\n",
    "plt.show()"
   ]
  },
  {
   "cell_type": "markdown",
   "id": "8b574a38",
   "metadata": {},
   "source": [
    "## Step 4️⃣ 业务关联分析"
   ]
  },
  {
   "cell_type": "code",
   "execution_count": null,
   "id": "046180b5",
   "metadata": {},
   "outputs": [],
   "source": [
    "# 消费金额与评分关系\n",
    "df['rating_group'] = df['review_rating'].apply(lambda x: 'high' if x >= 4 else 'low')\n",
    "sns.boxplot(x='rating_group', y='purchase_amount_(usd)', data=df)\n",
    "plt.title('高评分 vs 低评分客户的消费差异')\n",
    "plt.show()\n",
    "\n",
    "# 商品评分排行\n",
    "item_rating = df.groupby('item_purchased')['review_rating'].mean().sort_values(ascending=False).head(10)\n",
    "item_rating.plot(kind='bar')\n",
    "plt.title('评分最高的商品')\n",
    "plt.ylabel('平均评分')\n",
    "plt.xticks(rotation=45)\n",
    "plt.show()"
   ]
  },
  {
   "cell_type": "markdown",
   "id": "63052740",
   "metadata": {},
   "source": [
    "## Step 5️⃣ 时间模式挖掘"
   ]
  },
  {
   "cell_type": "code",
   "execution_count": null,
   "id": "29a475a2",
   "metadata": {},
   "outputs": [],
   "source": [
    "# 每月销售额趋势\n",
    "monthly_sales = df.groupby(df['date_purchase'].dt.to_period('M'))['purchase_amount_(usd)'].sum()\n",
    "monthly_sales.index = monthly_sales.index.to_timestamp()\n",
    "monthly_sales.plot(marker='o')\n",
    "plt.title('月度销售趋势')\n",
    "plt.grid(True)\n",
    "plt.show()\n",
    "\n",
    "# 每日趋势 + 滚动平均\n",
    "daily_sales = df.groupby('date_purchase')['purchase_amount_(usd)'].sum()\n",
    "daily_sales.plot(label='每日销售', alpha=0.5)\n",
    "daily_sales.rolling(7).mean().plot(label='7日平均', color='red')\n",
    "plt.title('每日销售趋势 + 平滑')\n",
    "plt.legend()\n",
    "plt.show()"
   ]
  },
  {
   "cell_type": "markdown",
   "id": "f56b2a2b",
   "metadata": {},
   "source": [
    "## Step 6️⃣ 建模与验证"
   ]
  },
  {
   "cell_type": "code",
   "execution_count": null,
   "id": "fc028dd1",
   "metadata": {},
   "outputs": [],
   "source": [
    "from sklearn.linear_model import LinearRegression\n",
    "from sklearn.metrics import mean_squared_error\n",
    "import numpy as np\n",
    "\n",
    "# 准备数据\n",
    "X = np.arange(len(monthly_sales)).reshape(-1, 1)\n",
    "y = monthly_sales.values\n",
    "split_idx = int(len(X) * 0.8)\n",
    "X_train, X_test = X[:split_idx], X[split_idx:]\n",
    "y_train, y_test = y[:split_idx], y[split_idx:]\n",
    "\n",
    "# 训练模型\n",
    "model = LinearRegression()\n",
    "model.fit(X_train, y_train)\n",
    "y_pred = model.predict(X_test)\n",
    "rmse = np.sqrt(mean_squared_error(y_test, y_pred))\n",
    "print(f'测试集 RMSE：{rmse:.2f}')\n",
    "\n",
    "# 可视化预测结果\n",
    "dates = monthly_sales.index\n",
    "train_dates = dates[:split_idx]\n",
    "test_dates = dates[split_idx:]\n",
    "plt.plot(train_dates, y_train, label='训练集')\n",
    "plt.plot(test_dates, y_test, label='测试集')\n",
    "plt.plot(test_dates, y_pred, label='预测值', linestyle='--')\n",
    "plt.legend()\n",
    "plt.title('月度销售额预测')\n",
    "plt.show()"
   ]
  }
 ],
 "metadata": {
  "kernelspec": {
   "display_name": "Python 3 (ipykernel)",
   "language": "python",
   "name": "python3"
  },
  "language_info": {
   "codemirror_mode": {
    "name": "ipython",
    "version": 3
   },
   "file_extension": ".py",
   "mimetype": "text/x-python",
   "name": "python",
   "nbconvert_exporter": "python",
   "pygments_lexer": "ipython3",
   "version": "3.9.13"
  }
 },
 "nbformat": 4,
 "nbformat_minor": 5
}
